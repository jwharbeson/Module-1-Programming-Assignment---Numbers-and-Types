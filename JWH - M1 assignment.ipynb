{
 "cells": [
  {
   "cell_type": "code",
   "execution_count": 8,
   "id": "3ca817d5-f813-48ff-a1d7-3b8e6e908356",
   "metadata": {},
   "outputs": [
    {
     "name": "stdout",
     "output_type": "stream",
     "text": [
      "Seconds in an hour: 3600\n",
      "Seconds per hour: 3600\n",
      "Seconds in a day: 86400\n",
      "Seconds per day: 86400\n",
      "Seconds per day divided by seconds per hour (floating-point): 24.0\n",
      "Seconds per day divided by seconds per hour (integer): 24\n"
     ]
    }
   ],
   "source": [
    "# Module 1 Programming Assignment - Numbers and Types\n",
    "# Johnny W. Harbeson V0.0.1\n",
    "\n",
    "# 3.1\n",
    "seconds_in_an_hour = 60 * 60\n",
    "print(\"Seconds in an hour:\", seconds_in_an_hour)\n",
    "\n",
    "# 3.2\n",
    "seconds_per_hour = seconds_in_an_hour\n",
    "print(\"Seconds per hour:\", seconds_per_hour)\n",
    "\n",
    "# 3.3\n",
    "seconds_in_a_day = seconds_per_hour * 24\n",
    "print(\"Seconds in a day:\", seconds_in_a_day)\n",
    "\n",
    "# 3.4\n",
    "seconds_per_day = seconds_in_a_day\n",
    "print(\"Seconds per day:\", seconds_per_day)\n",
    "\n",
    "# 3.5\n",
    "floating_point_division = seconds_per_day / seconds_per_hour\n",
    "print(\"Seconds per day divided by seconds per hour (floating-point):\", floating_point_division)\n",
    "\n",
    "# 3.6\n",
    "integer_division = seconds_per_day // seconds_per_hour\n",
    "print(\"Seconds per day divided by seconds per hour (integer):\", integer_division)\n"
   ]
  },
  {
   "cell_type": "code",
   "execution_count": null,
   "id": "0eeebd41-e921-4cd4-a201-bd2389b0aaa2",
   "metadata": {},
   "outputs": [],
   "source": []
  },
  {
   "cell_type": "code",
   "execution_count": null,
   "id": "c7f1b0e9-a743-470c-9a29-70424c46b05f",
   "metadata": {},
   "outputs": [],
   "source": []
  }
 ],
 "metadata": {
  "kernelspec": {
   "display_name": "Python 3 (ipykernel)",
   "language": "python",
   "name": "python3"
  },
  "language_info": {
   "codemirror_mode": {
    "name": "ipython",
    "version": 3
   },
   "file_extension": ".py",
   "mimetype": "text/x-python",
   "name": "python",
   "nbconvert_exporter": "python",
   "pygments_lexer": "ipython3",
   "version": "3.12.4"
  }
 },
 "nbformat": 4,
 "nbformat_minor": 5
}
